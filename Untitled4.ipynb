{
  "nbformat": 4,
  "nbformat_minor": 0,
  "metadata": {
    "colab": {
      "name": "Untitled4.ipynb",
      "provenance": [],
      "collapsed_sections": [],
      "toc_visible": true,
      "machine_shape": "hm",
      "include_colab_link": true
    },
    "kernelspec": {
      "name": "python3",
      "display_name": "Python 3"
    },
    "accelerator": "GPU"
  },
  "cells": [
    {
      "cell_type": "markdown",
      "metadata": {
        "id": "view-in-github",
        "colab_type": "text"
      },
      "source": [
        "<a href=\"https://colab.research.google.com/github/VASIL-ANSARI/ML-PROJECT-3/blob/master/Untitled4.ipynb\" target=\"_parent\"><img src=\"https://colab.research.google.com/assets/colab-badge.svg\" alt=\"Open In Colab\"/></a>"
      ]
    },
    {
      "cell_type": "markdown",
      "metadata": {
        "id": "glJum2pqgqhg",
        "colab_type": "text"
      },
      "source": [
        "# ***GALLIVANTORS***"
      ]
    },
    {
      "cell_type": "code",
      "metadata": {
        "id": "HgWVZARZibQs",
        "colab_type": "code",
        "colab": {
          "base_uri": "https://localhost:8080/",
          "height": 121
        },
        "outputId": "3a1a2e68-e3a3-47b1-9fc6-a0f23197e67b"
      },
      "source": [
        "!git clone https://github.com/VASIL-ANSARI/ML-PROJECT-3"
      ],
      "execution_count": 38,
      "outputs": [
        {
          "output_type": "stream",
          "text": [
            "Cloning into 'ML-PROJECT-3'...\n",
            "remote: Enumerating objects: 6, done.\u001b[K\n",
            "remote: Counting objects: 100% (6/6), done.\u001b[K\n",
            "remote: Compressing objects: 100% (3/3), done.\u001b[K\n",
            "Unpacking objects: 100% (6/6), done.\n",
            "remote: Total 6 (delta 0), reused 0 (delta 0), pack-reused 0\n"
          ],
          "name": "stdout"
        }
      ]
    },
    {
      "cell_type": "code",
      "metadata": {
        "id": "kjX8skNN8Luh",
        "colab_type": "code",
        "outputId": "99c223fb-00c2-4fb5-89a5-6414ed9c68ed",
        "colab": {
          "base_uri": "https://localhost:8080/",
          "height": 99
        }
      },
      "source": [
        "import numpy as np\n",
        "from keras.utils import to_categorical\n",
        "import matplotlib.pyplot as plt\n",
        "import keras\n",
        "from keras.models import Sequential,Input,Model\n",
        "from keras.layers import Dense, Dropout, Flatten\n",
        "from keras.layers import Conv2D, MaxPooling2D\n",
        "from keras.layers.normalization import BatchNormalization\n",
        "from keras.layers.advanced_activations import LeakyReLU\n",
        "import math\n",
        "import cv2\n",
        "%matplotlib inline\n",
        "\n",
        "batch_size = 1000\n",
        "epochs = 20\n",
        "num_classes = 211\n",
        "\n",
        "from keras.preprocessing.image import ImageDataGenerator\n",
        "from sklearn.model_selection import train_test_split\n",
        "import os\n",
        "\n",
        "import pandas as pd\n",
        "import json\n",
        "\n",
        "\n",
        "\n"
      ],
      "execution_count": 1,
      "outputs": [
        {
          "output_type": "stream",
          "text": [
            "Using TensorFlow backend.\n"
          ],
          "name": "stderr"
        },
        {
          "output_type": "display_data",
          "data": {
            "text/html": [
              "<p style=\"color: red;\">\n",
              "The default version of TensorFlow in Colab will soon switch to TensorFlow 2.x.<br>\n",
              "We recommend you <a href=\"https://www.tensorflow.org/guide/migrate\" target=\"_blank\">upgrade</a> now \n",
              "or ensure your notebook will continue to use TensorFlow 1.x via the <code>%tensorflow_version 1.x</code> magic:\n",
              "<a href=\"https://colab.research.google.com/notebooks/tensorflow_version.ipynb\" target=\"_blank\">more info</a>.</p>\n"
            ],
            "text/plain": [
              "<IPython.core.display.HTML object>"
            ]
          },
          "metadata": {
            "tags": []
          }
        }
      ]
    },
    {
      "cell_type": "code",
      "metadata": {
        "id": "TDgnwvCq-AYJ",
        "colab_type": "code",
        "colab": {}
      },
      "source": [
        "!unzip 'drive/My Drive/train.zip'"
      ],
      "execution_count": 0,
      "outputs": []
    },
    {
      "cell_type": "code",
      "metadata": {
        "id": "9SfC5xDm3dJP",
        "colab_type": "code",
        "colab": {}
      },
      "source": [
        "!unzip 'drive/My Drive/test.zip'"
      ],
      "execution_count": 0,
      "outputs": []
    },
    {
      "cell_type": "code",
      "metadata": {
        "id": "tMOja3QY35Rf",
        "colab_type": "code",
        "colab": {}
      },
      "source": [
        "!unzip country.zip"
      ],
      "execution_count": 0,
      "outputs": []
    },
    {
      "cell_type": "code",
      "metadata": {
        "id": "2fh_h6If3Js8",
        "colab_type": "code",
        "colab": {}
      },
      "source": [
        "#with open(country.json) as json_file:\n",
        "import json\n",
        "with open('country.json') as f:\n",
        "  tmp = json.load(f)\n",
        "#tmp = json.loads(country)\n",
        "country= {}\n",
        "for key in tmp.keys():\n",
        "  country[int(key)] = tmp[key].split(',')[-1]\n",
        "  "
      ],
      "execution_count": 0,
      "outputs": []
    },
    {
      "cell_type": "code",
      "metadata": {
        "id": "ZOP3paJ_5spW",
        "colab_type": "code",
        "colab": {
          "base_uri": "https://localhost:8080/",
          "height": 55
        },
        "outputId": "63971a6e-a4c3-402b-ab17-c0c206118f90"
      },
      "source": [
        "print(country)"
      ],
      "execution_count": 8,
      "outputs": [
        {
          "output_type": "stream",
          "text": [
            "{1: 'australia', 2: 'australia', 3: 'australia', 4: 'australia', 5: 'australia', 6: 'australia', 7: 'australia', 8: 'australia', 9: 'brazil', 10: 'brazil', 11: 'brazil', 12: 'brazil', 13: 'brazil', 14: 'united_kingdom', 15: 'united_kingdom', 16: 'united_kingdom', 17: 'united_kingdom', 18: 'united_kingdom', 19: 'united_kingdom', 20: 'united_kingdom', 21: 'united_kingdom', 22: 'canada', 23: 'canada', 24: 'canada', 25: 'canada', 26: 'canada', 27: 'canada', 28: 'canada', 29: 'chile', 30: 'chile', 31: 'chile', 32: 'chile', 33: 'chile', 34: 'chile', 35: 'china', 36: 'china', 37: 'china', 38: 'czech_republic', 39: 'czech_republic', 40: 'czech_republic', 41: 'czech_republic', 42: 'czech_republic', 43: 'czech_republic', 44: 'czech_republic', 45: 'czech_republic', 46: 'czech_republic', 47: 'denmark', 48: 'denmark', 49: 'denmark', 50: 'denmark', 51: 'denmark', 52: 'denmark', 53: 'denmark', 54: 'spain', 55: 'spain', 56: 'spain', 57: 'spain', 58: 'spain', 59: 'spain', 60: 'spain', 61: 'spain', 62: 'hong_kong', 63: 'hong_kong', 64: 'hong_kong', 65: 'hong_kong', 66: 'hong_kong', 67: 'hungary', 68: 'hungary', 69: 'hungary', 70: 'hungary', 71: 'hungary', 72: 'hungary', 73: 'hungary', 74: 'hungary', 75: 'india', 76: 'india', 77: 'india', 78: 'india', 79: 'india', 80: 'india', 81: 'indonesia', 82: 'indonesia', 83: 'indonesia', 84: 'indonesia', 85: 'indonesia', 86: 'israel', 87: 'israel', 88: 'israel', 89: 'israel', 90: 'israel', 91: 'israel', 92: 'israel', 93: 'japan', 94: 'japan', 95: 'japan', 96: 'japan', 97: 'japan', 98: 'japan', 99: 'south_korea', 100: 'south_korea', 101: 'south_korea', 102: 'south_korea', 103: 'south_korea', 104: 'south_korea', 105: 'malaysia', 106: 'malaysia', 107: 'malaysia', 108: 'malaysia', 109: 'malaysia', 110: 'mexico', 111: 'mexico', 112: 'mexico', 113: 'mexico', 114: 'mexico', 115: 'mexico', 116: 'mexico', 117: 'mexico', 118: 'new_zealand', 119: 'new_zealand', 120: 'new_zealand', 121: 'new_zealand', 122: 'new_zealand', 123: 'new_zealand', 124: 'norway', 125: 'norway', 126: 'norway', 127: 'norway', 128: 'norway', 129: 'pakistan', 130: 'pakistan', 131: 'pakistan', 132: 'pakistan', 133: 'philippines', 134: 'philippines', 135: 'philippines', 136: 'philippines', 137: 'philippines', 138: 'philippines', 139: 'philippines', 140: 'poland', 141: 'poland', 142: 'poland', 143: 'poland', 144: 'poland', 145: 'poland', 146: 'poland', 147: 'poland', 148: 'poland', 149: 'russia', 150: 'russia', 151: 'russia', 152: 'russia', 153: 'russia', 154: 'russia', 155: 'russia', 156: 'russia', 157: 'singapore', 158: 'singapore', 159: 'singapore', 160: 'singapore', 161: 'singapore', 162: 'singapore', 163: 'singapore', 164: 'south_africa', 165: 'south_africa', 166: 'south_africa', 167: 'south_africa', 168: 'south_africa', 169: 'south_africa', 170: 'south_africa', 171: 'sweden', 172: 'sweden', 173: 'sweden', 174: 'sweden', 175: 'sweden', 176: 'sweden', 177: 'switzerland', 178: 'switzerland', 179: 'switzerland', 180: 'switzerland', 181: 'switzerland', 182: 'switzerland', 183: 'switzerland', 184: 'switzerland', 185: 'taiwan', 186: 'taiwan', 187: 'taiwan', 188: 'taiwan', 189: 'taiwan', 190: 'taiwan', 191: 'thailand', 192: 'thailand', 193: 'thailand', 194: 'thailand', 195: 'thailand', 196: 'thailand', 197: 'thailand', 198: 'thailand', 199: 'thailand', 200: 'turkey', 201: 'turkey', 202: 'turkey', 203: 'turkey', 204: 'turkey', 205: 'turkey', 206: 'usa', 207: 'usa', 208: 'usa', 209: 'usa', 210: 'usa', 211: 'usa'}\n"
          ],
          "name": "stdout"
        }
      ]
    },
    {
      "cell_type": "code",
      "metadata": {
        "id": "gSdq9fli_3am",
        "colab_type": "code",
        "colab": {}
      },
      "source": [
        "train_set=[]\n",
        "for dirname, _, filenames in os.walk('train'):\n",
        "    print(dirname)\n",
        "    l=((dirname.split('/')))\n",
        "    if(len(l)==1):\n",
        "      continue\n",
        "    idx=int(l[1])\n",
        "    for f in filenames:\n",
        "      train_set.append([dirname+'/'+f, country[idx]])\n",
        "train_set = pd.DataFrame(train_set, columns=['Image','Country'])"
      ],
      "execution_count": 0,
      "outputs": []
    },
    {
      "cell_type": "code",
      "metadata": {
        "id": "DwzXtPisCta1",
        "colab_type": "code",
        "colab": {
          "base_uri": "https://localhost:8080/",
          "height": 355
        },
        "outputId": "023f33ff-8e1f-4541-cdbd-0ffb6ec0a684"
      },
      "source": [
        "train_set.head(10)"
      ],
      "execution_count": 18,
      "outputs": [
        {
          "output_type": "execute_result",
          "data": {
            "text/html": [
              "<div>\n",
              "<style scoped>\n",
              "    .dataframe tbody tr th:only-of-type {\n",
              "        vertical-align: middle;\n",
              "    }\n",
              "\n",
              "    .dataframe tbody tr th {\n",
              "        vertical-align: top;\n",
              "    }\n",
              "\n",
              "    .dataframe thead th {\n",
              "        text-align: right;\n",
              "    }\n",
              "</style>\n",
              "<table border=\"1\" class=\"dataframe\">\n",
              "  <thead>\n",
              "    <tr style=\"text-align: right;\">\n",
              "      <th></th>\n",
              "      <th>Image</th>\n",
              "      <th>Country</th>\n",
              "    </tr>\n",
              "  </thead>\n",
              "  <tbody>\n",
              "    <tr>\n",
              "      <th>0</th>\n",
              "      <td>train/14/014__1 Penny_united_kingdom.jpg</td>\n",
              "      <td>united_kingdom</td>\n",
              "    </tr>\n",
              "    <tr>\n",
              "      <th>1</th>\n",
              "      <td>train/14/016__1 Penny_united_kingdom.jpg</td>\n",
              "      <td>united_kingdom</td>\n",
              "    </tr>\n",
              "    <tr>\n",
              "      <th>2</th>\n",
              "      <td>train/14/005__1 Penny_united_kingdom.jpg</td>\n",
              "      <td>united_kingdom</td>\n",
              "    </tr>\n",
              "    <tr>\n",
              "      <th>3</th>\n",
              "      <td>train/14/015__1 Penny_united_kingdom.jpg</td>\n",
              "      <td>united_kingdom</td>\n",
              "    </tr>\n",
              "    <tr>\n",
              "      <th>4</th>\n",
              "      <td>train/14/032__1 Penny_united_kingdom.jpg</td>\n",
              "      <td>united_kingdom</td>\n",
              "    </tr>\n",
              "    <tr>\n",
              "      <th>5</th>\n",
              "      <td>train/14/003__1 Penny_united_kingdom.jpg</td>\n",
              "      <td>united_kingdom</td>\n",
              "    </tr>\n",
              "    <tr>\n",
              "      <th>6</th>\n",
              "      <td>train/14/013__1 Penny_united_kingdom.jpg</td>\n",
              "      <td>united_kingdom</td>\n",
              "    </tr>\n",
              "    <tr>\n",
              "      <th>7</th>\n",
              "      <td>train/14/030__1 Penny_united_kingdom.jpg</td>\n",
              "      <td>united_kingdom</td>\n",
              "    </tr>\n",
              "    <tr>\n",
              "      <th>8</th>\n",
              "      <td>train/14/001__1 Penny_united_kingdom.jpg</td>\n",
              "      <td>united_kingdom</td>\n",
              "    </tr>\n",
              "    <tr>\n",
              "      <th>9</th>\n",
              "      <td>train/14/035__1 Penny_united_kingdom.jpg</td>\n",
              "      <td>united_kingdom</td>\n",
              "    </tr>\n",
              "  </tbody>\n",
              "</table>\n",
              "</div>"
            ],
            "text/plain": [
              "                                      Image         Country\n",
              "0  train/14/014__1 Penny_united_kingdom.jpg  united_kingdom\n",
              "1  train/14/016__1 Penny_united_kingdom.jpg  united_kingdom\n",
              "2  train/14/005__1 Penny_united_kingdom.jpg  united_kingdom\n",
              "3  train/14/015__1 Penny_united_kingdom.jpg  united_kingdom\n",
              "4  train/14/032__1 Penny_united_kingdom.jpg  united_kingdom\n",
              "5  train/14/003__1 Penny_united_kingdom.jpg  united_kingdom\n",
              "6  train/14/013__1 Penny_united_kingdom.jpg  united_kingdom\n",
              "7  train/14/030__1 Penny_united_kingdom.jpg  united_kingdom\n",
              "8  train/14/001__1 Penny_united_kingdom.jpg  united_kingdom\n",
              "9  train/14/035__1 Penny_united_kingdom.jpg  united_kingdom"
            ]
          },
          "metadata": {
            "tags": []
          },
          "execution_count": 18
        }
      ]
    },
    {
      "cell_type": "code",
      "metadata": {
        "id": "Z-Jtu1-OC1iS",
        "colab_type": "code",
        "colab": {}
      },
      "source": [
        "test_set=[]\n",
        "for dirname, _, filenames in os.walk('test'):\n",
        "    for f in filenames:\n",
        "      test_set.append(dirname+\"/\"+f)\n",
        "test_set = pd.DataFrame(test_set, columns=['Image'])\n",
        "test_set.head(10)\n"
      ],
      "execution_count": 0,
      "outputs": []
    },
    {
      "cell_type": "code",
      "metadata": {
        "id": "bHwmhCZ_Db22",
        "colab_type": "code",
        "colab": {
          "base_uri": "https://localhost:8080/",
          "height": 35
        },
        "outputId": "3b448b0f-3672-430a-ec9d-43698edb0091"
      },
      "source": [
        "dim = 256\n",
        "\n",
        "train_datagen = ImageDataGenerator(rescale = 1./255,\n",
        "                                    shear_range = 0.2,\n",
        "                                    zoom_range = 0.2,\n",
        "                                    horizontal_flip = True)\n",
        "train_generator = train_datagen.flow_from_dataframe(\n",
        "    dataframe = train_set,\n",
        "    directory=\"\",\n",
        "    x_col=\"Image\",\n",
        "    y_col=\"Country\",\n",
        "    class_mode=\"categorical\",\n",
        "    target_size=(dim,dim),\n",
        "    batch_size=32)"
      ],
      "execution_count": 20,
      "outputs": [
        {
          "output_type": "stream",
          "text": [
            "Found 7046 validated image filenames belonging to 32 classes.\n"
          ],
          "name": "stdout"
        }
      ]
    },
    {
      "cell_type": "code",
      "metadata": {
        "id": "qDsu5opXDtXW",
        "colab_type": "code",
        "colab": {}
      },
      "source": [
        "\n",
        "from collections import Counter\n",
        "num_classes = len(Counter(train_generator.classes).keys())"
      ],
      "execution_count": 0,
      "outputs": []
    },
    {
      "cell_type": "code",
      "metadata": {
        "id": "fuycJs2BPu49",
        "colab_type": "code",
        "outputId": "277482f8-eb65-46a1-8c3a-c565e9649eb7",
        "colab": {
          "base_uri": "https://localhost:8080/",
          "height": 1000
        }
      },
      "source": [
        "\n",
        "\n",
        "#model fitting\n",
        "fashion_model = Sequential()\n",
        "\n",
        "fashion_model.add(Conv2D(32, kernel_size=(3, 3),activation='linear',padding='same',input_shape=(256,256,3)))\n",
        "fashion_model.add(LeakyReLU(alpha=0.1))\n",
        "fashion_model.add(MaxPooling2D((2, 2),padding='same'))\n",
        "fashion_model.add(Dropout(0.25))\n",
        "\n",
        "fashion_model.add(Conv2D(64, (3, 3), activation='linear',padding='same'))\n",
        "fashion_model.add(LeakyReLU(alpha=0.1))\n",
        "fashion_model.add(MaxPooling2D(pool_size=(2, 2),padding='same'))\n",
        "fashion_model.add(Dropout(0.25))\n",
        "\n",
        "fashion_model.add(Conv2D(64, (3, 3), activation='linear',padding='same'))\n",
        "fashion_model.add(LeakyReLU(alpha=0.1))\n",
        "fashion_model.add(MaxPooling2D(pool_size=(2, 2),padding='same'))\n",
        "fashion_model.add(Dropout(0.25))\n",
        "\n",
        "fashion_model.add(Flatten())\n",
        "\n",
        "fashion_model.add(Dropout(0.25))\n",
        "\n",
        "fashion_model.add(Dense(128, activation='linear'))\n",
        "fashion_model.add(LeakyReLU(alpha=0.1))           \n",
        "fashion_model.add(Dense(128, activation='linear'))\n",
        "fashion_model.add(LeakyReLU(alpha=0.1))   \n",
        "\n",
        "fashion_model.add(Dense(128, activation='linear'))\n",
        "fashion_model.add(LeakyReLU(alpha=0.1))           \n",
        "\n",
        "fashion_model.add(Dense(num_classes, activation='softmax'))\n",
        "\n",
        "#describing working of model\n",
        "fashion_model.summary()\n",
        "#compiling model\n",
        "fashion_model.compile(loss=keras.losses.categorical_crossentropy, optimizer=keras.optimizers.Adam(),metrics=['accuracy'])\n"
      ],
      "execution_count": 23,
      "outputs": [
        {
          "output_type": "stream",
          "text": [
            "WARNING:tensorflow:From /usr/local/lib/python3.6/dist-packages/keras/backend/tensorflow_backend.py:66: The name tf.get_default_graph is deprecated. Please use tf.compat.v1.get_default_graph instead.\n",
            "\n",
            "WARNING:tensorflow:From /usr/local/lib/python3.6/dist-packages/keras/backend/tensorflow_backend.py:541: The name tf.placeholder is deprecated. Please use tf.compat.v1.placeholder instead.\n",
            "\n",
            "WARNING:tensorflow:From /usr/local/lib/python3.6/dist-packages/keras/backend/tensorflow_backend.py:4432: The name tf.random_uniform is deprecated. Please use tf.random.uniform instead.\n",
            "\n",
            "WARNING:tensorflow:From /usr/local/lib/python3.6/dist-packages/keras/backend/tensorflow_backend.py:4267: The name tf.nn.max_pool is deprecated. Please use tf.nn.max_pool2d instead.\n",
            "\n",
            "WARNING:tensorflow:From /usr/local/lib/python3.6/dist-packages/keras/backend/tensorflow_backend.py:148: The name tf.placeholder_with_default is deprecated. Please use tf.compat.v1.placeholder_with_default instead.\n",
            "\n",
            "WARNING:tensorflow:From /usr/local/lib/python3.6/dist-packages/keras/backend/tensorflow_backend.py:3733: calling dropout (from tensorflow.python.ops.nn_ops) with keep_prob is deprecated and will be removed in a future version.\n",
            "Instructions for updating:\n",
            "Please use `rate` instead of `keep_prob`. Rate should be set to `rate = 1 - keep_prob`.\n",
            "Model: \"sequential_1\"\n",
            "_________________________________________________________________\n",
            "Layer (type)                 Output Shape              Param #   \n",
            "=================================================================\n",
            "conv2d_1 (Conv2D)            (None, 256, 256, 32)      896       \n",
            "_________________________________________________________________\n",
            "leaky_re_lu_1 (LeakyReLU)    (None, 256, 256, 32)      0         \n",
            "_________________________________________________________________\n",
            "max_pooling2d_1 (MaxPooling2 (None, 128, 128, 32)      0         \n",
            "_________________________________________________________________\n",
            "dropout_1 (Dropout)          (None, 128, 128, 32)      0         \n",
            "_________________________________________________________________\n",
            "conv2d_2 (Conv2D)            (None, 128, 128, 64)      18496     \n",
            "_________________________________________________________________\n",
            "leaky_re_lu_2 (LeakyReLU)    (None, 128, 128, 64)      0         \n",
            "_________________________________________________________________\n",
            "max_pooling2d_2 (MaxPooling2 (None, 64, 64, 64)        0         \n",
            "_________________________________________________________________\n",
            "dropout_2 (Dropout)          (None, 64, 64, 64)        0         \n",
            "_________________________________________________________________\n",
            "conv2d_3 (Conv2D)            (None, 64, 64, 64)        36928     \n",
            "_________________________________________________________________\n",
            "leaky_re_lu_3 (LeakyReLU)    (None, 64, 64, 64)        0         \n",
            "_________________________________________________________________\n",
            "max_pooling2d_3 (MaxPooling2 (None, 32, 32, 64)        0         \n",
            "_________________________________________________________________\n",
            "dropout_3 (Dropout)          (None, 32, 32, 64)        0         \n",
            "_________________________________________________________________\n",
            "flatten_1 (Flatten)          (None, 65536)             0         \n",
            "_________________________________________________________________\n",
            "dropout_4 (Dropout)          (None, 65536)             0         \n",
            "_________________________________________________________________\n",
            "dense_1 (Dense)              (None, 128)               8388736   \n",
            "_________________________________________________________________\n",
            "leaky_re_lu_4 (LeakyReLU)    (None, 128)               0         \n",
            "_________________________________________________________________\n",
            "dense_2 (Dense)              (None, 128)               16512     \n",
            "_________________________________________________________________\n",
            "leaky_re_lu_5 (LeakyReLU)    (None, 128)               0         \n",
            "_________________________________________________________________\n",
            "dense_3 (Dense)              (None, 128)               16512     \n",
            "_________________________________________________________________\n",
            "leaky_re_lu_6 (LeakyReLU)    (None, 128)               0         \n",
            "_________________________________________________________________\n",
            "dense_4 (Dense)              (None, 32)                4128      \n",
            "=================================================================\n",
            "Total params: 8,482,208\n",
            "Trainable params: 8,482,208\n",
            "Non-trainable params: 0\n",
            "_________________________________________________________________\n",
            "WARNING:tensorflow:From /usr/local/lib/python3.6/dist-packages/keras/optimizers.py:793: The name tf.train.Optimizer is deprecated. Please use tf.compat.v1.train.Optimizer instead.\n",
            "\n",
            "WARNING:tensorflow:From /usr/local/lib/python3.6/dist-packages/keras/backend/tensorflow_backend.py:3576: The name tf.log is deprecated. Please use tf.math.log instead.\n",
            "\n"
          ],
          "name": "stdout"
        }
      ]
    },
    {
      "cell_type": "code",
      "metadata": {
        "id": "AMafyOaOJ61c",
        "colab_type": "code",
        "colab": {
          "base_uri": "https://localhost:8080/",
          "height": 1000
        },
        "outputId": "d6c096f3-1491-4fb3-8e68-33e87e3a781b"
      },
      "source": [
        "fashion_model.fit_generator(train_generator, epochs = 100, steps_per_epoch = 70)"
      ],
      "execution_count": 24,
      "outputs": [
        {
          "output_type": "stream",
          "text": [
            "WARNING:tensorflow:From /usr/local/lib/python3.6/dist-packages/tensorflow_core/python/ops/math_grad.py:1424: where (from tensorflow.python.ops.array_ops) is deprecated and will be removed in a future version.\n",
            "Instructions for updating:\n",
            "Use tf.where in 2.0, which has the same broadcast rule as np.where\n",
            "WARNING:tensorflow:From /usr/local/lib/python3.6/dist-packages/keras/backend/tensorflow_backend.py:1033: The name tf.assign_add is deprecated. Please use tf.compat.v1.assign_add instead.\n",
            "\n",
            "WARNING:tensorflow:From /usr/local/lib/python3.6/dist-packages/keras/backend/tensorflow_backend.py:1020: The name tf.assign is deprecated. Please use tf.compat.v1.assign instead.\n",
            "\n",
            "WARNING:tensorflow:From /usr/local/lib/python3.6/dist-packages/keras/backend/tensorflow_backend.py:3005: The name tf.Session is deprecated. Please use tf.compat.v1.Session instead.\n",
            "\n",
            "Epoch 1/100\n",
            "WARNING:tensorflow:From /usr/local/lib/python3.6/dist-packages/keras/backend/tensorflow_backend.py:190: The name tf.get_default_session is deprecated. Please use tf.compat.v1.get_default_session instead.\n",
            "\n",
            "WARNING:tensorflow:From /usr/local/lib/python3.6/dist-packages/keras/backend/tensorflow_backend.py:197: The name tf.ConfigProto is deprecated. Please use tf.compat.v1.ConfigProto instead.\n",
            "\n",
            "WARNING:tensorflow:From /usr/local/lib/python3.6/dist-packages/keras/backend/tensorflow_backend.py:207: The name tf.global_variables is deprecated. Please use tf.compat.v1.global_variables instead.\n",
            "\n",
            "WARNING:tensorflow:From /usr/local/lib/python3.6/dist-packages/keras/backend/tensorflow_backend.py:216: The name tf.is_variable_initialized is deprecated. Please use tf.compat.v1.is_variable_initialized instead.\n",
            "\n",
            "WARNING:tensorflow:From /usr/local/lib/python3.6/dist-packages/keras/backend/tensorflow_backend.py:223: The name tf.variables_initializer is deprecated. Please use tf.compat.v1.variables_initializer instead.\n",
            "\n",
            "70/70 [==============================] - 43s 617ms/step - loss: 3.5185 - acc: 0.0384\n",
            "Epoch 2/100\n",
            "70/70 [==============================] - 34s 479ms/step - loss: 3.4141 - acc: 0.0696\n",
            "Epoch 3/100\n",
            "70/70 [==============================] - 33s 471ms/step - loss: 3.3678 - acc: 0.0920\n",
            "Epoch 4/100\n",
            "70/70 [==============================] - 33s 479ms/step - loss: 3.3381 - acc: 0.0844\n",
            "Epoch 5/100\n",
            "70/70 [==============================] - 33s 474ms/step - loss: 3.3032 - acc: 0.1022\n",
            "Epoch 6/100\n",
            "70/70 [==============================] - 34s 481ms/step - loss: 3.2168 - acc: 0.1241\n",
            "Epoch 7/100\n",
            "70/70 [==============================] - 33s 465ms/step - loss: 3.0140 - acc: 0.1841\n",
            "Epoch 8/100\n",
            "70/70 [==============================] - 34s 480ms/step - loss: 2.7265 - acc: 0.2728\n",
            "Epoch 9/100\n",
            "70/70 [==============================] - 33s 477ms/step - loss: 2.4051 - acc: 0.3460\n",
            "Epoch 10/100\n",
            "70/70 [==============================] - 33s 478ms/step - loss: 2.1724 - acc: 0.4089\n",
            "Epoch 11/100\n",
            "70/70 [==============================] - 33s 470ms/step - loss: 1.8697 - acc: 0.4994\n",
            "Epoch 12/100\n",
            "70/70 [==============================] - 33s 473ms/step - loss: 1.7164 - acc: 0.5438\n",
            "Epoch 13/100\n",
            "70/70 [==============================] - 34s 482ms/step - loss: 1.4723 - acc: 0.6152\n",
            "Epoch 14/100\n",
            "70/70 [==============================] - 33s 469ms/step - loss: 1.3747 - acc: 0.6357\n",
            "Epoch 15/100\n",
            "70/70 [==============================] - 33s 476ms/step - loss: 1.2479 - acc: 0.6567\n",
            "Epoch 16/100\n",
            "70/70 [==============================] - 33s 466ms/step - loss: 1.1464 - acc: 0.6936\n",
            "Epoch 17/100\n",
            "70/70 [==============================] - 33s 465ms/step - loss: 1.0772 - acc: 0.7112\n",
            "Epoch 18/100\n",
            "70/70 [==============================] - 33s 478ms/step - loss: 0.9968 - acc: 0.7254\n",
            "Epoch 19/100\n",
            "70/70 [==============================] - 33s 470ms/step - loss: 0.9366 - acc: 0.7518\n",
            "Epoch 20/100\n",
            "70/70 [==============================] - 33s 472ms/step - loss: 0.8937 - acc: 0.7652\n",
            "Epoch 21/100\n",
            "70/70 [==============================] - 33s 470ms/step - loss: 0.7843 - acc: 0.7844\n",
            "Epoch 22/100\n",
            "70/70 [==============================] - 33s 467ms/step - loss: 0.8125 - acc: 0.7834\n",
            "Epoch 23/100\n",
            "70/70 [==============================] - 33s 472ms/step - loss: 0.7563 - acc: 0.7879\n",
            "Epoch 24/100\n",
            "70/70 [==============================] - 33s 472ms/step - loss: 0.7371 - acc: 0.8018\n",
            "Epoch 25/100\n",
            "70/70 [==============================] - 33s 466ms/step - loss: 0.7219 - acc: 0.8078\n",
            "Epoch 26/100\n",
            "70/70 [==============================] - 33s 470ms/step - loss: 0.6380 - acc: 0.8304\n",
            "Epoch 27/100\n",
            "70/70 [==============================] - 33s 475ms/step - loss: 0.6604 - acc: 0.8125\n",
            "Epoch 28/100\n",
            "70/70 [==============================] - 33s 471ms/step - loss: 0.6015 - acc: 0.8321\n",
            "Epoch 29/100\n",
            "70/70 [==============================] - 33s 473ms/step - loss: 0.5743 - acc: 0.8388\n",
            "Epoch 30/100\n",
            "70/70 [==============================] - 34s 486ms/step - loss: 0.5740 - acc: 0.8414\n",
            "Epoch 31/100\n",
            "70/70 [==============================] - 35s 494ms/step - loss: 0.5902 - acc: 0.8366\n",
            "Epoch 32/100\n",
            "70/70 [==============================] - 35s 494ms/step - loss: 0.5748 - acc: 0.8420\n",
            "Epoch 33/100\n",
            "70/70 [==============================] - 33s 478ms/step - loss: 0.4672 - acc: 0.8638\n",
            "Epoch 34/100\n",
            "70/70 [==============================] - 33s 473ms/step - loss: 0.5924 - acc: 0.8415\n",
            "Epoch 35/100\n",
            "70/70 [==============================] - 33s 476ms/step - loss: 0.5192 - acc: 0.8585\n",
            "Epoch 36/100\n",
            "70/70 [==============================] - 34s 483ms/step - loss: 0.4628 - acc: 0.8674\n",
            "Epoch 37/100\n",
            "70/70 [==============================] - 33s 472ms/step - loss: 0.5692 - acc: 0.8467\n",
            "Epoch 38/100\n",
            "70/70 [==============================] - 33s 477ms/step - loss: 0.4736 - acc: 0.8714\n",
            "Epoch 39/100\n",
            "70/70 [==============================] - 33s 466ms/step - loss: 0.4432 - acc: 0.8798\n",
            "Epoch 40/100\n",
            "70/70 [==============================] - 34s 480ms/step - loss: 0.4817 - acc: 0.8638\n",
            "Epoch 41/100\n",
            "70/70 [==============================] - 33s 473ms/step - loss: 0.4265 - acc: 0.8808\n",
            "Epoch 42/100\n",
            "70/70 [==============================] - 34s 484ms/step - loss: 0.3646 - acc: 0.8955\n",
            "Epoch 43/100\n",
            "70/70 [==============================] - 33s 473ms/step - loss: 0.4075 - acc: 0.8883\n",
            "Epoch 44/100\n",
            "70/70 [==============================] - 34s 482ms/step - loss: 0.4711 - acc: 0.8638\n",
            "Epoch 45/100\n",
            "70/70 [==============================] - 33s 475ms/step - loss: 0.3499 - acc: 0.9025\n",
            "Epoch 46/100\n",
            "70/70 [==============================] - 33s 477ms/step - loss: 0.3557 - acc: 0.8933\n",
            "Epoch 47/100\n",
            "70/70 [==============================] - 33s 477ms/step - loss: 0.3353 - acc: 0.9036\n",
            "Epoch 48/100\n",
            "70/70 [==============================] - 33s 470ms/step - loss: 0.3713 - acc: 0.8978\n",
            "Epoch 49/100\n",
            "70/70 [==============================] - 33s 478ms/step - loss: 0.3541 - acc: 0.9000\n",
            "Epoch 50/100\n",
            "70/70 [==============================] - 33s 465ms/step - loss: 0.3748 - acc: 0.8897\n",
            "Epoch 51/100\n",
            "70/70 [==============================] - 34s 479ms/step - loss: 0.3475 - acc: 0.8991\n",
            "Epoch 52/100\n",
            "70/70 [==============================] - 33s 467ms/step - loss: 0.3066 - acc: 0.9143\n",
            "Epoch 53/100\n",
            "70/70 [==============================] - 35s 493ms/step - loss: 0.3296 - acc: 0.9049\n",
            "Epoch 54/100\n",
            "70/70 [==============================] - 34s 487ms/step - loss: 0.3107 - acc: 0.9129\n",
            "Epoch 55/100\n",
            "70/70 [==============================] - 34s 483ms/step - loss: 0.2875 - acc: 0.9228\n",
            "Epoch 56/100\n",
            "70/70 [==============================] - 35s 503ms/step - loss: 0.3106 - acc: 0.9071\n",
            "Epoch 57/100\n",
            "70/70 [==============================] - 34s 480ms/step - loss: 0.3422 - acc: 0.8999\n",
            "Epoch 58/100\n",
            "70/70 [==============================] - 34s 482ms/step - loss: 0.2779 - acc: 0.9201\n",
            "Epoch 59/100\n",
            "70/70 [==============================] - 34s 484ms/step - loss: 0.3026 - acc: 0.9156\n",
            "Epoch 60/100\n",
            "70/70 [==============================] - 34s 481ms/step - loss: 0.2887 - acc: 0.9121\n",
            "Epoch 61/100\n",
            "70/70 [==============================] - 33s 478ms/step - loss: 0.2657 - acc: 0.9250\n",
            "Epoch 62/100\n",
            "70/70 [==============================] - 33s 478ms/step - loss: 0.2879 - acc: 0.9259\n",
            "Epoch 63/100\n",
            "70/70 [==============================] - 36s 508ms/step - loss: 0.2885 - acc: 0.9183\n",
            "Epoch 64/100\n",
            "70/70 [==============================] - 35s 497ms/step - loss: 0.2815 - acc: 0.9187\n",
            "Epoch 65/100\n",
            "70/70 [==============================] - 34s 493ms/step - loss: 0.2928 - acc: 0.9156\n",
            "Epoch 66/100\n",
            "70/70 [==============================] - 34s 486ms/step - loss: 0.2769 - acc: 0.9152\n",
            "Epoch 67/100\n",
            "70/70 [==============================] - 33s 478ms/step - loss: 0.2720 - acc: 0.9205\n",
            "Epoch 68/100\n",
            "70/70 [==============================] - 33s 476ms/step - loss: 0.2584 - acc: 0.9236\n",
            "Epoch 69/100\n",
            "70/70 [==============================] - 33s 474ms/step - loss: 0.2403 - acc: 0.9290\n",
            "Epoch 70/100\n",
            "70/70 [==============================] - 34s 481ms/step - loss: 0.2033 - acc: 0.9388\n",
            "Epoch 71/100\n",
            "70/70 [==============================] - 33s 469ms/step - loss: 0.2681 - acc: 0.9214\n",
            "Epoch 72/100\n",
            "70/70 [==============================] - 34s 481ms/step - loss: 0.2392 - acc: 0.9268\n",
            "Epoch 73/100\n",
            "70/70 [==============================] - 34s 479ms/step - loss: 0.2659 - acc: 0.9161\n",
            "Epoch 74/100\n",
            "70/70 [==============================] - 33s 469ms/step - loss: 0.3155 - acc: 0.9158\n",
            "Epoch 75/100\n",
            "70/70 [==============================] - 33s 474ms/step - loss: 0.2266 - acc: 0.9321\n",
            "Epoch 76/100\n",
            "70/70 [==============================] - 33s 475ms/step - loss: 0.2055 - acc: 0.9397\n",
            "Epoch 77/100\n",
            "70/70 [==============================] - 33s 468ms/step - loss: 0.2097 - acc: 0.9402\n",
            "Epoch 78/100\n",
            "70/70 [==============================] - 33s 473ms/step - loss: 0.1830 - acc: 0.9496\n",
            "Epoch 79/100\n",
            "70/70 [==============================] - 34s 479ms/step - loss: 0.2274 - acc: 0.9299\n",
            "Epoch 80/100\n",
            "70/70 [==============================] - 33s 473ms/step - loss: 0.2267 - acc: 0.9384\n",
            "Epoch 81/100\n",
            "70/70 [==============================] - 33s 476ms/step - loss: 0.2563 - acc: 0.9246\n",
            "Epoch 82/100\n",
            "70/70 [==============================] - 33s 466ms/step - loss: 0.2341 - acc: 0.9362\n",
            "Epoch 83/100\n",
            "70/70 [==============================] - 35s 501ms/step - loss: 0.2298 - acc: 0.9362\n",
            "Epoch 84/100\n",
            "70/70 [==============================] - 33s 478ms/step - loss: 0.2583 - acc: 0.9240\n",
            "Epoch 85/100\n",
            "70/70 [==============================] - 33s 476ms/step - loss: 0.2057 - acc: 0.9415\n",
            "Epoch 86/100\n",
            "70/70 [==============================] - 33s 472ms/step - loss: 0.1858 - acc: 0.9424\n",
            "Epoch 87/100\n",
            "70/70 [==============================] - 33s 474ms/step - loss: 0.2219 - acc: 0.9397\n",
            "Epoch 88/100\n",
            "70/70 [==============================] - 34s 484ms/step - loss: 0.2009 - acc: 0.9366\n",
            "Epoch 89/100\n",
            "70/70 [==============================] - 33s 470ms/step - loss: 0.2326 - acc: 0.9333\n",
            "Epoch 90/100\n",
            "70/70 [==============================] - 33s 472ms/step - loss: 0.2099 - acc: 0.9384\n",
            "Epoch 91/100\n",
            "70/70 [==============================] - 33s 478ms/step - loss: 0.1959 - acc: 0.9393\n",
            "Epoch 92/100\n",
            "70/70 [==============================] - 34s 482ms/step - loss: 0.1895 - acc: 0.9442\n",
            "Epoch 93/100\n",
            "70/70 [==============================] - 33s 467ms/step - loss: 0.2071 - acc: 0.9384\n",
            "Epoch 94/100\n",
            "70/70 [==============================] - 33s 474ms/step - loss: 0.2607 - acc: 0.9232\n",
            "Epoch 95/100\n",
            "70/70 [==============================] - 33s 466ms/step - loss: 0.2528 - acc: 0.9263\n",
            "Epoch 96/100\n",
            "70/70 [==============================] - 33s 467ms/step - loss: 0.1977 - acc: 0.9424\n",
            "Epoch 97/100\n",
            "70/70 [==============================] - 33s 471ms/step - loss: 0.2014 - acc: 0.9397\n",
            "Epoch 98/100\n",
            "70/70 [==============================] - 32s 459ms/step - loss: 0.1803 - acc: 0.9478\n",
            "Epoch 99/100\n",
            "70/70 [==============================] - 32s 461ms/step - loss: 0.2007 - acc: 0.9384\n",
            "Epoch 100/100\n",
            "70/70 [==============================] - 33s 466ms/step - loss: 0.1778 - acc: 0.9500\n"
          ],
          "name": "stdout"
        },
        {
          "output_type": "execute_result",
          "data": {
            "text/plain": [
              "<keras.callbacks.History at 0x7f30080eac50>"
            ]
          },
          "metadata": {
            "tags": []
          },
          "execution_count": 24
        }
      ]
    },
    {
      "cell_type": "code",
      "metadata": {
        "id": "uIYus-mWecPl",
        "colab_type": "code",
        "colab": {
          "base_uri": "https://localhost:8080/",
          "height": 55
        },
        "outputId": "8bee789d-a355-4939-aabd-e7919855cda9"
      },
      "source": [
        "classes = train_generator.class_indices\n",
        "print(classes)"
      ],
      "execution_count": 25,
      "outputs": [
        {
          "output_type": "stream",
          "text": [
            "{'australia': 0, 'brazil': 1, 'canada': 2, 'chile': 3, 'china': 4, 'czech_republic': 5, 'denmark': 6, 'hong_kong': 7, 'hungary': 8, 'india': 9, 'indonesia': 10, 'israel': 11, 'japan': 12, 'malaysia': 13, 'mexico': 14, 'new_zealand': 15, 'norway': 16, 'pakistan': 17, 'philippines': 18, 'poland': 19, 'russia': 20, 'singapore': 21, 'south_africa': 22, 'south_korea': 23, 'spain': 24, 'sweden': 25, 'switzerland': 26, 'taiwan': 27, 'thailand': 28, 'turkey': 29, 'united_kingdom': 30, 'usa': 31}\n"
          ],
          "name": "stdout"
        }
      ]
    },
    {
      "cell_type": "code",
      "metadata": {
        "id": "JS8_wb1YejMB",
        "colab_type": "code",
        "colab": {
          "base_uri": "https://localhost:8080/",
          "height": 55
        },
        "outputId": "75deaf02-bb83-4799-9672-9b37a74a66f6"
      },
      "source": [
        "inverted_classes = dict(map(reversed, classes.items()))\n",
        "print(inverted_classes)"
      ],
      "execution_count": 26,
      "outputs": [
        {
          "output_type": "stream",
          "text": [
            "{0: 'australia', 1: 'brazil', 2: 'canada', 3: 'chile', 4: 'china', 5: 'czech_republic', 6: 'denmark', 7: 'hong_kong', 8: 'hungary', 9: 'india', 10: 'indonesia', 11: 'israel', 12: 'japan', 13: 'malaysia', 14: 'mexico', 15: 'new_zealand', 16: 'norway', 17: 'pakistan', 18: 'philippines', 19: 'poland', 20: 'russia', 21: 'singapore', 22: 'south_africa', 23: 'south_korea', 24: 'spain', 25: 'sweden', 26: 'switzerland', 27: 'taiwan', 28: 'thailand', 29: 'turkey', 30: 'united_kingdom', 31: 'usa'}\n"
          ],
          "name": "stdout"
        }
      ]
    },
    {
      "cell_type": "code",
      "metadata": {
        "id": "lS2erkOherRx",
        "colab_type": "code",
        "colab": {}
      },
      "source": [
        "from keras.preprocessing import image\n",
        "\n",
        "Y_pred = []\n",
        "\n",
        "for idx in range(test_set.shape[0]):\n",
        "  img = image.load_img(path=test_set['Image'][idx],target_size=(dim,dim,3))\n",
        "  img = image.img_to_array(img)\n",
        "  test_img = img.reshape((1,dim,dim,3))\n",
        "  img_class = fashion_model.predict_classes(test_img)\n",
        "  prediction = img_class[0]\n",
        "  Y_pred.append(prediction)"
      ],
      "execution_count": 0,
      "outputs": []
    },
    {
      "cell_type": "code",
      "metadata": {
        "id": "k9CVrsd6e2ka",
        "colab_type": "code",
        "colab": {
          "base_uri": "https://localhost:8080/",
          "height": 55
        },
        "outputId": "07f698e9-1d3b-4f9d-e24b-6fb22986e43c"
      },
      "source": [
        "print(Y_pred)"
      ],
      "execution_count": 29,
      "outputs": [
        {
          "output_type": "stream",
          "text": [
            "[23, 19, 21, 23, 30, 5, 14, 9, 6, 14, 22, 26, 23, 6, 0, 18, 1, 28, 0, 11, 3, 19, 10, 6, 28, 4, 2, 0, 5, 30, 6, 7, 14, 5, 0, 30, 7, 28, 0, 20, 28, 12, 19, 21, 24, 11, 23, 24, 14, 14, 6, 26, 20, 18, 24, 5, 7, 28, 14, 26, 18, 24, 14, 8, 5, 22, 3, 20, 0, 11, 3, 6, 31, 3, 29, 0, 6, 6, 6, 17, 3, 11, 14, 28, 28, 28, 26, 13, 28, 28, 6, 12, 25, 30, 0, 19, 30, 5, 28, 7, 31, 18, 21, 28, 12, 11, 23, 12, 20, 11, 31, 28, 27, 3, 2, 14, 29, 6, 26, 28, 20, 28, 19, 3, 14, 22, 25, 28, 2, 9, 30, 13, 31, 13, 28, 18, 21, 2, 8, 16, 22, 3, 10, 14, 1, 18, 20, 0, 12, 31, 15, 5, 3, 28, 29, 13, 18, 19, 14, 0, 15, 5, 7, 12, 18, 19, 30, 19, 23, 5, 6, 28, 21, 11, 5, 0, 9, 18, 28, 18, 30, 24, 15, 24, 0, 10, 18, 25, 14, 22, 12, 18, 8, 1, 22, 17, 20, 18, 13, 24, 30, 30, 23, 5, 12, 28, 28, 20, 24, 28, 11, 0, 23, 18, 17, 19, 10, 8, 28, 28, 29, 14, 0, 0, 2, 23, 12, 15, 20, 19, 14, 5, 18, 17, 2, 0, 17, 31, 21, 12, 21, 6, 3, 0, 0, 5, 6, 2, 14, 14, 28, 13, 20, 28, 22, 22, 24, 20, 11, 5, 0, 20, 17, 2, 18, 9, 2, 11, 19, 2, 22, 0, 24, 24, 8, 8, 8, 3, 2, 9, 28, 17, 19, 30, 3, 4, 8, 16, 0, 21, 3, 2, 30, 10, 5, 14, 29, 10, 4, 11, 3, 28, 28, 29, 20, 15, 30, 3, 28, 30, 20, 3, 2, 6, 10, 0, 28, 28, 24, 20, 5, 8, 26, 21, 30, 16, 20, 18, 6, 1, 28, 31, 17, 0, 16, 0, 30, 15, 22, 1, 24, 5, 25, 16, 28, 0, 0, 9, 18, 31, 7, 20, 28, 21, 30, 19, 28, 3, 5, 19, 2, 1, 26, 20, 12, 30, 3, 0, 0, 11, 24, 9, 2, 0, 2, 16, 20, 3, 26, 27, 14, 26, 16, 4, 28, 29, 26, 6, 28, 23, 7, 4, 24, 30, 26, 3, 9, 11, 6, 19, 3, 7, 31, 20, 6, 30, 29, 23, 28, 17, 15, 22, 28, 2, 17, 20, 28, 5, 8, 30, 7, 30, 24, 29, 7, 24, 5, 24, 11, 19, 28, 16, 26, 29, 11, 15, 22, 0, 8, 17, 6, 30, 21, 21, 5, 0, 24, 26, 25, 0, 19, 18, 1, 28, 2, 3, 13, 20, 0, 16, 0, 7, 28, 15, 3, 21, 1, 10, 24, 6, 30, 19, 28, 19, 28, 5, 21, 27, 24, 6, 20, 27, 6, 6, 14, 18, 0, 0, 6, 13, 28, 27, 20, 3, 9, 8, 18, 3, 29, 9, 29, 28, 22, 30, 23, 31, 19, 28, 7, 18, 28, 30, 31, 11, 28, 12, 2, 18, 24, 31, 11, 22, 11, 11, 19, 0, 14, 29, 2, 8, 21, 20, 20, 22, 21, 2, 7, 28, 31, 18, 30, 27, 23, 20, 18, 30, 29, 21, 0, 21, 30, 24, 8, 0, 0, 28, 15, 29, 20, 7, 12, 29, 24, 19, 23, 1, 29, 0, 8, 6, 28, 21, 12, 30, 17, 11, 6, 30, 6, 8, 24, 26, 22, 5, 13, 23, 21, 26, 0, 3, 13, 28, 27, 25, 29, 3, 0, 14, 1, 28, 18, 12, 15, 22, 5, 19, 3, 15, 31, 5, 7, 15, 24, 29, 25, 21, 20, 30, 2, 12, 15, 14, 28, 28, 0, 22, 4, 20, 24, 25, 26, 21, 10, 15, 10, 23, 28, 31, 31, 3, 20, 14, 20, 22, 27, 28, 2, 28, 1, 21, 2, 8, 28, 20, 30, 19, 23, 28, 2, 20, 0, 17, 15, 21, 12, 28, 13, 25, 28, 10, 27, 28, 20, 7, 0, 11, 21, 6, 9, 19, 0, 9, 14, 10, 31, 26, 21, 11, 24, 20, 26, 14, 0, 30, 30, 5, 0, 22, 3, 10, 27, 10, 21, 3, 23, 4, 21, 11, 15, 15, 25, 21, 15, 24, 5, 8, 14, 19, 19, 24, 16, 3, 31, 10, 22, 3, 24, 14, 12, 2, 30, 21, 30, 4, 12, 15, 12, 0, 0, 28, 27, 8, 21, 12, 6, 24, 10, 18, 28, 21, 9, 5, 22, 29, 30, 2, 1, 6, 0, 31, 7, 30, 26, 31, 23, 31, 25, 28, 3, 28, 15, 31, 1, 4, 24, 14, 14, 0, 12, 15, 19, 31, 19, 13, 30, 19, 12, 5, 30, 28, 0, 1, 25, 14, 12, 0, 12, 28, 0, 2, 30, 31, 15, 31, 1, 7, 31, 14, 0, 3, 6, 29, 1, 24, 25, 19, 15, 15, 3, 11, 28, 0, 3, 6, 20, 13, 7, 18, 3, 27, 26, 8, 20, 31, 12, 24, 30, 31, 2, 21, 29, 0, 27, 8, 8, 3, 21, 0, 16, 14, 18, 5, 24, 13, 19, 7, 31, 15, 12, 28, 24, 14, 29, 17, 26, 2, 26, 12, 23, 18, 26, 0, 10, 31, 29, 4, 13, 30, 20, 24, 7, 26, 22, 6, 24, 25, 25, 11, 0, 1, 20, 19, 1, 31, 5, 26, 19, 19, 26, 4, 31, 3, 12, 19, 6, 16, 10, 10, 21, 20, 14, 4, 13, 22, 21, 6, 16, 5, 7, 24, 30, 24, 0, 0, 14, 31, 21, 8, 17, 0, 0, 19, 19, 29, 4, 5, 9, 14, 6, 21, 6, 11, 0, 26, 18, 1, 20, 12, 2, 5, 11, 26, 20, 30, 21, 2, 10, 19, 28, 21, 31, 5, 8, 1, 28, 2, 19, 11, 7, 24, 27, 21, 11, 12, 5, 28, 28, 31, 3, 19, 21, 4, 5, 21, 18, 21, 26, 9, 7, 7, 29, 2, 19, 21, 27, 28, 2, 3, 26, 28, 3, 28, 3, 9, 28, 1, 8, 26, 30, 25, 21, 25, 3, 5, 4, 16, 11, 25, 25, 15, 30, 20, 28, 28, 13, 2, 8, 11, 21, 27, 24, 10, 30, 6, 5, 16, 4, 1, 7, 8, 16, 26, 24, 20, 0, 14, 9, 18, 8, 0, 0, 5, 5, 0, 26]\n"
          ],
          "name": "stdout"
        }
      ]
    },
    {
      "cell_type": "code",
      "metadata": {
        "id": "EBG7TYrHe9uh",
        "colab_type": "code",
        "colab": {
          "base_uri": "https://localhost:8080/",
          "height": 55
        },
        "outputId": "a24ae958-640f-4f08-a3cb-35b903e2e76e"
      },
      "source": [
        "prediction_classes = [ inverted_classes.get(item,item) for item in Y_pred ]\n",
        "print(prediction_classes)"
      ],
      "execution_count": 30,
      "outputs": [
        {
          "output_type": "stream",
          "text": [
            "['south_korea', 'poland', 'singapore', 'south_korea', 'united_kingdom', 'czech_republic', 'mexico', 'india', 'denmark', 'mexico', 'south_africa', 'switzerland', 'south_korea', 'denmark', 'australia', 'philippines', 'brazil', 'thailand', 'australia', 'israel', 'chile', 'poland', 'indonesia', 'denmark', 'thailand', 'china', 'canada', 'australia', 'czech_republic', 'united_kingdom', 'denmark', 'hong_kong', 'mexico', 'czech_republic', 'australia', 'united_kingdom', 'hong_kong', 'thailand', 'australia', 'russia', 'thailand', 'japan', 'poland', 'singapore', 'spain', 'israel', 'south_korea', 'spain', 'mexico', 'mexico', 'denmark', 'switzerland', 'russia', 'philippines', 'spain', 'czech_republic', 'hong_kong', 'thailand', 'mexico', 'switzerland', 'philippines', 'spain', 'mexico', 'hungary', 'czech_republic', 'south_africa', 'chile', 'russia', 'australia', 'israel', 'chile', 'denmark', 'usa', 'chile', 'turkey', 'australia', 'denmark', 'denmark', 'denmark', 'pakistan', 'chile', 'israel', 'mexico', 'thailand', 'thailand', 'thailand', 'switzerland', 'malaysia', 'thailand', 'thailand', 'denmark', 'japan', 'sweden', 'united_kingdom', 'australia', 'poland', 'united_kingdom', 'czech_republic', 'thailand', 'hong_kong', 'usa', 'philippines', 'singapore', 'thailand', 'japan', 'israel', 'south_korea', 'japan', 'russia', 'israel', 'usa', 'thailand', 'taiwan', 'chile', 'canada', 'mexico', 'turkey', 'denmark', 'switzerland', 'thailand', 'russia', 'thailand', 'poland', 'chile', 'mexico', 'south_africa', 'sweden', 'thailand', 'canada', 'india', 'united_kingdom', 'malaysia', 'usa', 'malaysia', 'thailand', 'philippines', 'singapore', 'canada', 'hungary', 'norway', 'south_africa', 'chile', 'indonesia', 'mexico', 'brazil', 'philippines', 'russia', 'australia', 'japan', 'usa', 'new_zealand', 'czech_republic', 'chile', 'thailand', 'turkey', 'malaysia', 'philippines', 'poland', 'mexico', 'australia', 'new_zealand', 'czech_republic', 'hong_kong', 'japan', 'philippines', 'poland', 'united_kingdom', 'poland', 'south_korea', 'czech_republic', 'denmark', 'thailand', 'singapore', 'israel', 'czech_republic', 'australia', 'india', 'philippines', 'thailand', 'philippines', 'united_kingdom', 'spain', 'new_zealand', 'spain', 'australia', 'indonesia', 'philippines', 'sweden', 'mexico', 'south_africa', 'japan', 'philippines', 'hungary', 'brazil', 'south_africa', 'pakistan', 'russia', 'philippines', 'malaysia', 'spain', 'united_kingdom', 'united_kingdom', 'south_korea', 'czech_republic', 'japan', 'thailand', 'thailand', 'russia', 'spain', 'thailand', 'israel', 'australia', 'south_korea', 'philippines', 'pakistan', 'poland', 'indonesia', 'hungary', 'thailand', 'thailand', 'turkey', 'mexico', 'australia', 'australia', 'canada', 'south_korea', 'japan', 'new_zealand', 'russia', 'poland', 'mexico', 'czech_republic', 'philippines', 'pakistan', 'canada', 'australia', 'pakistan', 'usa', 'singapore', 'japan', 'singapore', 'denmark', 'chile', 'australia', 'australia', 'czech_republic', 'denmark', 'canada', 'mexico', 'mexico', 'thailand', 'malaysia', 'russia', 'thailand', 'south_africa', 'south_africa', 'spain', 'russia', 'israel', 'czech_republic', 'australia', 'russia', 'pakistan', 'canada', 'philippines', 'india', 'canada', 'israel', 'poland', 'canada', 'south_africa', 'australia', 'spain', 'spain', 'hungary', 'hungary', 'hungary', 'chile', 'canada', 'india', 'thailand', 'pakistan', 'poland', 'united_kingdom', 'chile', 'china', 'hungary', 'norway', 'australia', 'singapore', 'chile', 'canada', 'united_kingdom', 'indonesia', 'czech_republic', 'mexico', 'turkey', 'indonesia', 'china', 'israel', 'chile', 'thailand', 'thailand', 'turkey', 'russia', 'new_zealand', 'united_kingdom', 'chile', 'thailand', 'united_kingdom', 'russia', 'chile', 'canada', 'denmark', 'indonesia', 'australia', 'thailand', 'thailand', 'spain', 'russia', 'czech_republic', 'hungary', 'switzerland', 'singapore', 'united_kingdom', 'norway', 'russia', 'philippines', 'denmark', 'brazil', 'thailand', 'usa', 'pakistan', 'australia', 'norway', 'australia', 'united_kingdom', 'new_zealand', 'south_africa', 'brazil', 'spain', 'czech_republic', 'sweden', 'norway', 'thailand', 'australia', 'australia', 'india', 'philippines', 'usa', 'hong_kong', 'russia', 'thailand', 'singapore', 'united_kingdom', 'poland', 'thailand', 'chile', 'czech_republic', 'poland', 'canada', 'brazil', 'switzerland', 'russia', 'japan', 'united_kingdom', 'chile', 'australia', 'australia', 'israel', 'spain', 'india', 'canada', 'australia', 'canada', 'norway', 'russia', 'chile', 'switzerland', 'taiwan', 'mexico', 'switzerland', 'norway', 'china', 'thailand', 'turkey', 'switzerland', 'denmark', 'thailand', 'south_korea', 'hong_kong', 'china', 'spain', 'united_kingdom', 'switzerland', 'chile', 'india', 'israel', 'denmark', 'poland', 'chile', 'hong_kong', 'usa', 'russia', 'denmark', 'united_kingdom', 'turkey', 'south_korea', 'thailand', 'pakistan', 'new_zealand', 'south_africa', 'thailand', 'canada', 'pakistan', 'russia', 'thailand', 'czech_republic', 'hungary', 'united_kingdom', 'hong_kong', 'united_kingdom', 'spain', 'turkey', 'hong_kong', 'spain', 'czech_republic', 'spain', 'israel', 'poland', 'thailand', 'norway', 'switzerland', 'turkey', 'israel', 'new_zealand', 'south_africa', 'australia', 'hungary', 'pakistan', 'denmark', 'united_kingdom', 'singapore', 'singapore', 'czech_republic', 'australia', 'spain', 'switzerland', 'sweden', 'australia', 'poland', 'philippines', 'brazil', 'thailand', 'canada', 'chile', 'malaysia', 'russia', 'australia', 'norway', 'australia', 'hong_kong', 'thailand', 'new_zealand', 'chile', 'singapore', 'brazil', 'indonesia', 'spain', 'denmark', 'united_kingdom', 'poland', 'thailand', 'poland', 'thailand', 'czech_republic', 'singapore', 'taiwan', 'spain', 'denmark', 'russia', 'taiwan', 'denmark', 'denmark', 'mexico', 'philippines', 'australia', 'australia', 'denmark', 'malaysia', 'thailand', 'taiwan', 'russia', 'chile', 'india', 'hungary', 'philippines', 'chile', 'turkey', 'india', 'turkey', 'thailand', 'south_africa', 'united_kingdom', 'south_korea', 'usa', 'poland', 'thailand', 'hong_kong', 'philippines', 'thailand', 'united_kingdom', 'usa', 'israel', 'thailand', 'japan', 'canada', 'philippines', 'spain', 'usa', 'israel', 'south_africa', 'israel', 'israel', 'poland', 'australia', 'mexico', 'turkey', 'canada', 'hungary', 'singapore', 'russia', 'russia', 'south_africa', 'singapore', 'canada', 'hong_kong', 'thailand', 'usa', 'philippines', 'united_kingdom', 'taiwan', 'south_korea', 'russia', 'philippines', 'united_kingdom', 'turkey', 'singapore', 'australia', 'singapore', 'united_kingdom', 'spain', 'hungary', 'australia', 'australia', 'thailand', 'new_zealand', 'turkey', 'russia', 'hong_kong', 'japan', 'turkey', 'spain', 'poland', 'south_korea', 'brazil', 'turkey', 'australia', 'hungary', 'denmark', 'thailand', 'singapore', 'japan', 'united_kingdom', 'pakistan', 'israel', 'denmark', 'united_kingdom', 'denmark', 'hungary', 'spain', 'switzerland', 'south_africa', 'czech_republic', 'malaysia', 'south_korea', 'singapore', 'switzerland', 'australia', 'chile', 'malaysia', 'thailand', 'taiwan', 'sweden', 'turkey', 'chile', 'australia', 'mexico', 'brazil', 'thailand', 'philippines', 'japan', 'new_zealand', 'south_africa', 'czech_republic', 'poland', 'chile', 'new_zealand', 'usa', 'czech_republic', 'hong_kong', 'new_zealand', 'spain', 'turkey', 'sweden', 'singapore', 'russia', 'united_kingdom', 'canada', 'japan', 'new_zealand', 'mexico', 'thailand', 'thailand', 'australia', 'south_africa', 'china', 'russia', 'spain', 'sweden', 'switzerland', 'singapore', 'indonesia', 'new_zealand', 'indonesia', 'south_korea', 'thailand', 'usa', 'usa', 'chile', 'russia', 'mexico', 'russia', 'south_africa', 'taiwan', 'thailand', 'canada', 'thailand', 'brazil', 'singapore', 'canada', 'hungary', 'thailand', 'russia', 'united_kingdom', 'poland', 'south_korea', 'thailand', 'canada', 'russia', 'australia', 'pakistan', 'new_zealand', 'singapore', 'japan', 'thailand', 'malaysia', 'sweden', 'thailand', 'indonesia', 'taiwan', 'thailand', 'russia', 'hong_kong', 'australia', 'israel', 'singapore', 'denmark', 'india', 'poland', 'australia', 'india', 'mexico', 'indonesia', 'usa', 'switzerland', 'singapore', 'israel', 'spain', 'russia', 'switzerland', 'mexico', 'australia', 'united_kingdom', 'united_kingdom', 'czech_republic', 'australia', 'south_africa', 'chile', 'indonesia', 'taiwan', 'indonesia', 'singapore', 'chile', 'south_korea', 'china', 'singapore', 'israel', 'new_zealand', 'new_zealand', 'sweden', 'singapore', 'new_zealand', 'spain', 'czech_republic', 'hungary', 'mexico', 'poland', 'poland', 'spain', 'norway', 'chile', 'usa', 'indonesia', 'south_africa', 'chile', 'spain', 'mexico', 'japan', 'canada', 'united_kingdom', 'singapore', 'united_kingdom', 'china', 'japan', 'new_zealand', 'japan', 'australia', 'australia', 'thailand', 'taiwan', 'hungary', 'singapore', 'japan', 'denmark', 'spain', 'indonesia', 'philippines', 'thailand', 'singapore', 'india', 'czech_republic', 'south_africa', 'turkey', 'united_kingdom', 'canada', 'brazil', 'denmark', 'australia', 'usa', 'hong_kong', 'united_kingdom', 'switzerland', 'usa', 'south_korea', 'usa', 'sweden', 'thailand', 'chile', 'thailand', 'new_zealand', 'usa', 'brazil', 'china', 'spain', 'mexico', 'mexico', 'australia', 'japan', 'new_zealand', 'poland', 'usa', 'poland', 'malaysia', 'united_kingdom', 'poland', 'japan', 'czech_republic', 'united_kingdom', 'thailand', 'australia', 'brazil', 'sweden', 'mexico', 'japan', 'australia', 'japan', 'thailand', 'australia', 'canada', 'united_kingdom', 'usa', 'new_zealand', 'usa', 'brazil', 'hong_kong', 'usa', 'mexico', 'australia', 'chile', 'denmark', 'turkey', 'brazil', 'spain', 'sweden', 'poland', 'new_zealand', 'new_zealand', 'chile', 'israel', 'thailand', 'australia', 'chile', 'denmark', 'russia', 'malaysia', 'hong_kong', 'philippines', 'chile', 'taiwan', 'switzerland', 'hungary', 'russia', 'usa', 'japan', 'spain', 'united_kingdom', 'usa', 'canada', 'singapore', 'turkey', 'australia', 'taiwan', 'hungary', 'hungary', 'chile', 'singapore', 'australia', 'norway', 'mexico', 'philippines', 'czech_republic', 'spain', 'malaysia', 'poland', 'hong_kong', 'usa', 'new_zealand', 'japan', 'thailand', 'spain', 'mexico', 'turkey', 'pakistan', 'switzerland', 'canada', 'switzerland', 'japan', 'south_korea', 'philippines', 'switzerland', 'australia', 'indonesia', 'usa', 'turkey', 'china', 'malaysia', 'united_kingdom', 'russia', 'spain', 'hong_kong', 'switzerland', 'south_africa', 'denmark', 'spain', 'sweden', 'sweden', 'israel', 'australia', 'brazil', 'russia', 'poland', 'brazil', 'usa', 'czech_republic', 'switzerland', 'poland', 'poland', 'switzerland', 'china', 'usa', 'chile', 'japan', 'poland', 'denmark', 'norway', 'indonesia', 'indonesia', 'singapore', 'russia', 'mexico', 'china', 'malaysia', 'south_africa', 'singapore', 'denmark', 'norway', 'czech_republic', 'hong_kong', 'spain', 'united_kingdom', 'spain', 'australia', 'australia', 'mexico', 'usa', 'singapore', 'hungary', 'pakistan', 'australia', 'australia', 'poland', 'poland', 'turkey', 'china', 'czech_republic', 'india', 'mexico', 'denmark', 'singapore', 'denmark', 'israel', 'australia', 'switzerland', 'philippines', 'brazil', 'russia', 'japan', 'canada', 'czech_republic', 'israel', 'switzerland', 'russia', 'united_kingdom', 'singapore', 'canada', 'indonesia', 'poland', 'thailand', 'singapore', 'usa', 'czech_republic', 'hungary', 'brazil', 'thailand', 'canada', 'poland', 'israel', 'hong_kong', 'spain', 'taiwan', 'singapore', 'israel', 'japan', 'czech_republic', 'thailand', 'thailand', 'usa', 'chile', 'poland', 'singapore', 'china', 'czech_republic', 'singapore', 'philippines', 'singapore', 'switzerland', 'india', 'hong_kong', 'hong_kong', 'turkey', 'canada', 'poland', 'singapore', 'taiwan', 'thailand', 'canada', 'chile', 'switzerland', 'thailand', 'chile', 'thailand', 'chile', 'india', 'thailand', 'brazil', 'hungary', 'switzerland', 'united_kingdom', 'sweden', 'singapore', 'sweden', 'chile', 'czech_republic', 'china', 'norway', 'israel', 'sweden', 'sweden', 'new_zealand', 'united_kingdom', 'russia', 'thailand', 'thailand', 'malaysia', 'canada', 'hungary', 'israel', 'singapore', 'taiwan', 'spain', 'indonesia', 'united_kingdom', 'denmark', 'czech_republic', 'norway', 'china', 'brazil', 'hong_kong', 'hungary', 'norway', 'switzerland', 'spain', 'russia', 'australia', 'mexico', 'india', 'philippines', 'hungary', 'australia', 'australia', 'czech_republic', 'czech_republic', 'australia', 'switzerland']\n"
          ],
          "name": "stdout"
        }
      ]
    },
    {
      "cell_type": "code",
      "metadata": {
        "id": "EvKPwgvXfC2d",
        "colab_type": "code",
        "colab": {
          "base_uri": "https://localhost:8080/",
          "height": 662
        },
        "outputId": "5f07ac30-5414-4620-cf9e-0c2fbcdf4223"
      },
      "source": [
        "from datetime import datetime\n",
        "\n",
        "predictions = []\n",
        "for idx in range(test_set.shape[0]):\n",
        "    name=test_set['Image'][idx].split('/')[1]\n",
        "    #print(name.split('.')[0])\n",
        "    predictions.append([(name.split('.'))[0],prediction_classes[idx]])\n",
        "predictions = pd.DataFrame(predictions, columns=['ID','Country'])\n",
        "predictions['ID'] = predictions['ID'].astype(int)\n",
        "predictions.sort_values(by=['ID'], inplace=True)\n",
        "predictions.to_csv(datetime.now().strftime(\"gallivanters.csv\"), index=False)\n",
        "predictions.head(20)"
      ],
      "execution_count": 37,
      "outputs": [
        {
          "output_type": "execute_result",
          "data": {
            "text/html": [
              "<div>\n",
              "<style scoped>\n",
              "    .dataframe tbody tr th:only-of-type {\n",
              "        vertical-align: middle;\n",
              "    }\n",
              "\n",
              "    .dataframe tbody tr th {\n",
              "        vertical-align: top;\n",
              "    }\n",
              "\n",
              "    .dataframe thead th {\n",
              "        text-align: right;\n",
              "    }\n",
              "</style>\n",
              "<table border=\"1\" class=\"dataframe\">\n",
              "  <thead>\n",
              "    <tr style=\"text-align: right;\">\n",
              "      <th></th>\n",
              "      <th>ID</th>\n",
              "      <th>Country</th>\n",
              "    </tr>\n",
              "  </thead>\n",
              "  <tbody>\n",
              "    <tr>\n",
              "      <th>789</th>\n",
              "      <td>1</td>\n",
              "      <td>thailand</td>\n",
              "    </tr>\n",
              "    <tr>\n",
              "      <th>249</th>\n",
              "      <td>2</td>\n",
              "      <td>mexico</td>\n",
              "    </tr>\n",
              "    <tr>\n",
              "      <th>933</th>\n",
              "      <td>3</td>\n",
              "      <td>turkey</td>\n",
              "    </tr>\n",
              "    <tr>\n",
              "      <th>35</th>\n",
              "      <td>4</td>\n",
              "      <td>united_kingdom</td>\n",
              "    </tr>\n",
              "    <tr>\n",
              "      <th>886</th>\n",
              "      <td>5</td>\n",
              "      <td>sweden</td>\n",
              "    </tr>\n",
              "    <tr>\n",
              "      <th>723</th>\n",
              "      <td>6</td>\n",
              "      <td>indonesia</td>\n",
              "    </tr>\n",
              "    <tr>\n",
              "      <th>224</th>\n",
              "      <td>7</td>\n",
              "      <td>canada</td>\n",
              "    </tr>\n",
              "    <tr>\n",
              "      <th>969</th>\n",
              "      <td>8</td>\n",
              "      <td>spain</td>\n",
              "    </tr>\n",
              "    <tr>\n",
              "      <th>34</th>\n",
              "      <td>9</td>\n",
              "      <td>australia</td>\n",
              "    </tr>\n",
              "    <tr>\n",
              "      <th>104</th>\n",
              "      <td>10</td>\n",
              "      <td>japan</td>\n",
              "    </tr>\n",
              "    <tr>\n",
              "      <th>519</th>\n",
              "      <td>11</td>\n",
              "      <td>usa</td>\n",
              "    </tr>\n",
              "    <tr>\n",
              "      <th>698</th>\n",
              "      <td>12</td>\n",
              "      <td>chile</td>\n",
              "    </tr>\n",
              "    <tr>\n",
              "      <th>899</th>\n",
              "      <td>13</td>\n",
              "      <td>china</td>\n",
              "    </tr>\n",
              "    <tr>\n",
              "      <th>906</th>\n",
              "      <td>14</td>\n",
              "      <td>indonesia</td>\n",
              "    </tr>\n",
              "    <tr>\n",
              "      <th>150</th>\n",
              "      <td>15</td>\n",
              "      <td>new_zealand</td>\n",
              "    </tr>\n",
              "    <tr>\n",
              "      <th>404</th>\n",
              "      <td>16</td>\n",
              "      <td>denmark</td>\n",
              "    </tr>\n",
              "    <tr>\n",
              "      <th>729</th>\n",
              "      <td>17</td>\n",
              "      <td>canada</td>\n",
              "    </tr>\n",
              "    <tr>\n",
              "      <th>957</th>\n",
              "      <td>18</td>\n",
              "      <td>poland</td>\n",
              "    </tr>\n",
              "    <tr>\n",
              "      <th>159</th>\n",
              "      <td>19</td>\n",
              "      <td>australia</td>\n",
              "    </tr>\n",
              "    <tr>\n",
              "      <th>483</th>\n",
              "      <td>20</td>\n",
              "      <td>denmark</td>\n",
              "    </tr>\n",
              "  </tbody>\n",
              "</table>\n",
              "</div>"
            ],
            "text/plain": [
              "     ID         Country\n",
              "789   1        thailand\n",
              "249   2          mexico\n",
              "933   3          turkey\n",
              "35    4  united_kingdom\n",
              "886   5          sweden\n",
              "723   6       indonesia\n",
              "224   7          canada\n",
              "969   8           spain\n",
              "34    9       australia\n",
              "104  10           japan\n",
              "519  11             usa\n",
              "698  12           chile\n",
              "899  13           china\n",
              "906  14       indonesia\n",
              "150  15     new_zealand\n",
              "404  16         denmark\n",
              "729  17          canada\n",
              "957  18          poland\n",
              "159  19       australia\n",
              "483  20         denmark"
            ]
          },
          "metadata": {
            "tags": []
          },
          "execution_count": 37
        }
      ]
    }
  ]
}